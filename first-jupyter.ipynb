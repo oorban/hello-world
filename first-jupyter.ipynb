{
 "cells": [
  {
   "cell_type": "code",
   "execution_count": 1,
   "metadata": {},
   "outputs": [],
   "source": [
    "from sklearn import tree\n",
    "\n",
    "X = [[181, 80, 44], [177, 70, 43], [160, 60, 38], [154, 54, 37], [166, 65, 40], [190, 90, 47], [175, 64, 39],\n",
    "     [177, 70, 40]]\n",
    "Y = ['m', 'f', 'f', 'f', 'm', 'm', 'm', 'f']"
   ]
  },
  {
   "cell_type": "code",
   "execution_count": 2,
   "metadata": {},
   "outputs": [
    {
     "name": "stdout",
     "output_type": "stream",
     "text": [
      "['f']\n"
     ]
    }
   ],
   "source": [
    "clf = tree.DecisionTreeClassifier()\n",
    "\n",
    "clf = clf.fit(X, Y)\n",
    "\n",
    "prediction = clf.predict([[190, 70, 43]])\n",
    "\n",
    "print(prediction)"
   ]
  },
  {
   "cell_type": "markdown",
   "metadata": {},
   "source": [
    "$$e^{i\\pi} + 1 = 0$$\n",
    "\n",
    "$e^{i\\pi} + 1 = 0$"
   ]
  },
  {
   "cell_type": "markdown",
   "metadata": {},
   "source": [
    "<h1>A First Level Header</h1>\n",
    "\n",
    "<h2>A Second Level Header</h2>\n",
    "\n",
    "<p>Now is the time for all <b>good men</b> to come to\n",
    "the aid of their country. This is just a\n",
    "regular paragraph.</p>\n",
    "\n",
    "<p>The quick brown fox jumped over the lazy\n",
    "dog's back.</p>\n",
    "\n",
    "<h3>Header 3</h3>\n",
    "\n",
    "<blockquote>\n",
    "    <p>This is a blockquote.</p>\n",
    "\n",
    "    <p>This is the second paragraph in the blockquote.</p>\n",
    "\n",
    "    <h2>This is an H2 in a blockquote</h2>\n",
    "</blockquote>"
   ]
  }
 ],
 "metadata": {
  "kernelspec": {
   "display_name": "Python 2",
   "language": "python",
   "name": "python2"
  },
  "language_info": {
   "codemirror_mode": {
    "name": "ipython",
    "version": 2
   },
   "file_extension": ".py",
   "mimetype": "text/x-python",
   "name": "python",
   "nbconvert_exporter": "python",
   "pygments_lexer": "ipython2",
   "version": "2.7.15rc1"
  }
 },
 "nbformat": 4,
 "nbformat_minor": 2
}
